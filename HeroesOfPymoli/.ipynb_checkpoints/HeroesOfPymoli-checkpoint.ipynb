{
 "cells": [
  {
   "cell_type": "markdown",
   "metadata": {},
   "source": [
    "### Heroes Of Pymoli Data Analysis\n",
    "* Of the 1163 active players, the vast majority are male (84%). There also exists, a smaller, but notable proportion of female players (14%).\n",
    "\n",
    "* Our peak age demographic falls between 20-24 (44.8%) with secondary groups falling between 15-19 (18.60%) and 25-29 (13.4%).  \n",
    "-----"
   ]
  },
  {
   "cell_type": "markdown",
   "metadata": {},
   "source": [
    "### Note\n",
    "* Instructions have been included for each segment. You do not have to follow them exactly, but they are included to help you think through the steps."
   ]
  },
  {
   "cell_type": "code",
   "execution_count": 1,
   "metadata": {},
   "outputs": [],
   "source": [
    "# Dependencies and Setup\n",
    "import pandas as pd\n",
    "import numpy as np\n",
    "\n",
    "# File to Load (Remember to Change These)\n",
    "file_to_load = \"Resources/purchase_data.csv\"\n",
    "\n",
    "# Read Purchasing File and store into Pandas data frame\n",
    "purchase_data = pd.read_csv(file_to_load)\n",
    "#purchase_data.head()"
   ]
  },
  {
   "cell_type": "markdown",
   "metadata": {},
   "source": [
    "## Player Count"
   ]
  },
  {
   "cell_type": "markdown",
   "metadata": {},
   "source": [
    "* Display the total number of players\n"
   ]
  },
  {
   "cell_type": "code",
   "execution_count": 2,
   "metadata": {},
   "outputs": [
    {
     "data": {
      "text/html": [
       "<div>\n",
       "<style scoped>\n",
       "    .dataframe tbody tr th:only-of-type {\n",
       "        vertical-align: middle;\n",
       "    }\n",
       "\n",
       "    .dataframe tbody tr th {\n",
       "        vertical-align: top;\n",
       "    }\n",
       "\n",
       "    .dataframe thead th {\n",
       "        text-align: right;\n",
       "    }\n",
       "</style>\n",
       "<table border=\"1\" class=\"dataframe\">\n",
       "  <thead>\n",
       "    <tr style=\"text-align: right;\">\n",
       "      <th></th>\n",
       "      <th>Total Players</th>\n",
       "    </tr>\n",
       "  </thead>\n",
       "  <tbody>\n",
       "    <tr>\n",
       "      <th>0</th>\n",
       "      <td>576</td>\n",
       "    </tr>\n",
       "  </tbody>\n",
       "</table>\n",
       "</div>"
      ],
      "text/plain": [
       "   Total Players\n",
       "0            576"
      ]
     },
     "execution_count": 2,
     "metadata": {},
     "output_type": "execute_result"
    }
   ],
   "source": [
    "#get total players by unique names in SN column, place in data frame for display\n",
    "total_player_count = pd.DataFrame({\"Total Players\":[purchase_data[\"SN\"].nunique()]})\n",
    "total_player_count"
   ]
  },
  {
   "cell_type": "markdown",
   "metadata": {},
   "source": [
    "## Purchasing Analysis (Total)"
   ]
  },
  {
   "cell_type": "markdown",
   "metadata": {},
   "source": [
    "* Run basic calculations to obtain number of unique items, average price, etc.\n",
    "\n",
    "\n",
    "* Create a summary data frame to hold the results\n",
    "\n",
    "\n",
    "* Optional: give the displayed data cleaner formatting\n",
    "\n",
    "\n",
    "* Display the summary data frame\n"
   ]
  },
  {
   "cell_type": "code",
   "execution_count": 3,
   "metadata": {},
   "outputs": [],
   "source": [
    "#collect purchase data in variables for clarity\n",
    "\n",
    "#number of items by count of unique entries in Item ID column \n",
    "items_unique_count = purchase_data[\"Item ID\"].nunique()\n",
    "\n",
    "#average(mean) of price of items purchased \n",
    "item_avg_price = purchase_data[\"Price\"].mean()\n",
    "\n",
    "#total number of items purchased by count total entries in Item ID column\n",
    "item_total_purchased = purchase_data[\"Item ID\"].count()\n",
    "\n",
    "#total revenue from purchases\n",
    "item_total_revenue = purchase_data[\"Price\"].sum()"
   ]
  },
  {
   "cell_type": "code",
   "execution_count": 4,
   "metadata": {
    "scrolled": true
   },
   "outputs": [
    {
     "data": {
      "text/html": [
       "<style  type=\"text/css\" >\n",
       "</style><table id=\"T_c9c99474_96c5_11e9_a6d7_34f64bddd40b\" ><thead>    <tr>        <th class=\"blank level0\" ></th>        <th class=\"col_heading level0 col0\" >Number of Unique Items</th>        <th class=\"col_heading level0 col1\" >Average Price</th>        <th class=\"col_heading level0 col2\" >Number of Purchases</th>        <th class=\"col_heading level0 col3\" >Total Revenue</th>    </tr></thead><tbody>\n",
       "                <tr>\n",
       "                        <th id=\"T_c9c99474_96c5_11e9_a6d7_34f64bddd40blevel0_row0\" class=\"row_heading level0 row0\" >0</th>\n",
       "                        <td id=\"T_c9c99474_96c5_11e9_a6d7_34f64bddd40brow0_col0\" class=\"data row0 col0\" >183</td>\n",
       "                        <td id=\"T_c9c99474_96c5_11e9_a6d7_34f64bddd40brow0_col1\" class=\"data row0 col1\" >\\$3.05</td>\n",
       "                        <td id=\"T_c9c99474_96c5_11e9_a6d7_34f64bddd40brow0_col2\" class=\"data row0 col2\" >780</td>\n",
       "                        <td id=\"T_c9c99474_96c5_11e9_a6d7_34f64bddd40brow0_col3\" class=\"data row0 col3\" >$\\$$2,379.77</td>\n",
       "            </tr>\n",
       "    </tbody></table>"
      ],
      "text/plain": [
       "<pandas.io.formats.style.Styler at 0x1f414f0a668>"
      ]
     },
     "execution_count": 4,
     "metadata": {},
     "output_type": "execute_result"
    }
   ],
   "source": [
    "#create datafram to display collected data\n",
    "purchase_analysis = pd.DataFrame({\"Number of Unique Items\":[items_unique_count],\"Average Price\":[item_avg_price],\"Number of Purchases\":[item_total_purchased],\"Total Revenue\":[item_total_revenue]})\n",
    "\n",
    "#format datafarme for nice currency display, escape $ for better github display?\n",
    "purchase_analysis = purchase_analysis.style.format({'Average Price':'\\${:,.2f}', 'Total Revenue': '$\\$${:,.2f}'})\n",
    "\n",
    "#display dataframe of purchasing anlysis \n",
    "purchase_analysis"
   ]
  },
  {
   "cell_type": "markdown",
   "metadata": {},
   "source": [
    "## Gender Demographics"
   ]
  },
  {
   "cell_type": "markdown",
   "metadata": {},
   "source": [
    "* Percentage and Count of Male Players\n",
    "\n",
    "\n",
    "* Percentage and Count of Female Players\n",
    "\n",
    "\n",
    "* Percentage and Count of Other / Non-Disclosed\n",
    "\n",
    "\n"
   ]
  },
  {
   "cell_type": "code",
   "execution_count": 5,
   "metadata": {},
   "outputs": [
    {
     "data": {
      "text/html": [
       "<style  type=\"text/css\" >\n",
       "</style><table id=\"T_d7aff3b6_96c5_11e9_9a9e_34f64bddd40b\" ><thead>    <tr>        <th class=\"blank level0\" ></th>        <th class=\"col_heading level0 col0\" >Total Player Count</th>        <th class=\"col_heading level0 col1\" >Total Percent</th>    </tr></thead><tbody>\n",
       "                <tr>\n",
       "                        <th id=\"T_d7aff3b6_96c5_11e9_9a9e_34f64bddd40blevel0_row0\" class=\"row_heading level0 row0\" >Male</th>\n",
       "                        <td id=\"T_d7aff3b6_96c5_11e9_9a9e_34f64bddd40brow0_col0\" class=\"data row0 col0\" >484</td>\n",
       "                        <td id=\"T_d7aff3b6_96c5_11e9_9a9e_34f64bddd40brow0_col1\" class=\"data row0 col1\" >84.03%</td>\n",
       "            </tr>\n",
       "            <tr>\n",
       "                        <th id=\"T_d7aff3b6_96c5_11e9_9a9e_34f64bddd40blevel0_row1\" class=\"row_heading level0 row1\" >Female</th>\n",
       "                        <td id=\"T_d7aff3b6_96c5_11e9_9a9e_34f64bddd40brow1_col0\" class=\"data row1 col0\" >81</td>\n",
       "                        <td id=\"T_d7aff3b6_96c5_11e9_9a9e_34f64bddd40brow1_col1\" class=\"data row1 col1\" >14.06%</td>\n",
       "            </tr>\n",
       "            <tr>\n",
       "                        <th id=\"T_d7aff3b6_96c5_11e9_9a9e_34f64bddd40blevel0_row2\" class=\"row_heading level0 row2\" >Other / Non-Disclosed</th>\n",
       "                        <td id=\"T_d7aff3b6_96c5_11e9_9a9e_34f64bddd40brow2_col0\" class=\"data row2 col0\" >11</td>\n",
       "                        <td id=\"T_d7aff3b6_96c5_11e9_9a9e_34f64bddd40brow2_col1\" class=\"data row2 col1\" >1.91%</td>\n",
       "            </tr>\n",
       "    </tbody></table>"
      ],
      "text/plain": [
       "<pandas.io.formats.style.Styler at 0x1f415cf1a20>"
      ]
     },
     "execution_count": 5,
     "metadata": {},
     "output_type": "execute_result"
    }
   ],
   "source": [
    "#collect purchase data in variables for clarity\n",
    "\n",
    "#collect data grouped by gender\n",
    "purchase_data_gender = purchase_data.groupby(['Gender'])\n",
    "\n",
    "#removed conversion to df, serries columns renamed during merge\n",
    "#total players from gender grouped dataframe\n",
    "total_players_gender = purchase_data_gender[\"SN\"].nunique()\n",
    "\n",
    "#what percent of total per gender, vector math\n",
    "total_players_percent=total_players_gender / purchase_data[\"SN\"].nunique() * 100\n",
    "\n",
    "#merge dataframes into full analysis, give series column names here\n",
    "total_player_count_gender = pd.concat([total_players_gender.rename(\"Total Player Count\"),total_players_percent.rename(\"Total Percent\")],axis=1)\n",
    "\n",
    "#format for nice display\n",
    "#remove index for cleaner display\n",
    "total_player_count_gender.index.name = None\n",
    "\n",
    "#sort, format percent column, output result\n",
    "total_player_count_gender.sort_values([\"Total Player Count\"], ascending = False).style.format({\"Total Percent\":'{:.2f}%'})"
   ]
  },
  {
   "cell_type": "markdown",
   "metadata": {},
   "source": [
    "\n",
    "## Purchasing Analysis (Gender)"
   ]
  },
  {
   "cell_type": "markdown",
   "metadata": {},
   "source": [
    "* Run basic calculations to obtain purchase count, avg. purchase price, avg. purchase total per person etc. by gender\n",
    "\n",
    "\n",
    "\n",
    "\n",
    "* Create a summary data frame to hold the results\n",
    "\n",
    "\n",
    "* Optional: give the displayed data cleaner formatting\n",
    "\n",
    "\n",
    "* Display the summary data frame"
   ]
  },
  {
   "cell_type": "code",
   "execution_count": 6,
   "metadata": {},
   "outputs": [
    {
     "data": {
      "text/html": [
       "<style  type=\"text/css\" >\n",
       "</style><table id=\"T_e1ff7fdc_96c5_11e9_9579_34f64bddd40b\" ><thead>    <tr>        <th class=\"blank level0\" ></th>        <th class=\"col_heading level0 col0\" >Purchase Count</th>        <th class=\"col_heading level0 col1\" >Average Purchase Price</th>        <th class=\"col_heading level0 col2\" >Total Purchase Value</th>        <th class=\"col_heading level0 col3\" >Avg Total Purchase per Person</th>    </tr>    <tr>        <th class=\"index_name level0\" >Gender</th>        <th class=\"blank\" ></th>        <th class=\"blank\" ></th>        <th class=\"blank\" ></th>        <th class=\"blank\" ></th>    </tr></thead><tbody>\n",
       "                <tr>\n",
       "                        <th id=\"T_e1ff7fdc_96c5_11e9_9579_34f64bddd40blevel0_row0\" class=\"row_heading level0 row0\" >Female</th>\n",
       "                        <td id=\"T_e1ff7fdc_96c5_11e9_9579_34f64bddd40brow0_col0\" class=\"data row0 col0\" >113</td>\n",
       "                        <td id=\"T_e1ff7fdc_96c5_11e9_9579_34f64bddd40brow0_col1\" class=\"data row0 col1\" >$\\$$3.20</td>\n",
       "                        <td id=\"T_e1ff7fdc_96c5_11e9_9579_34f64bddd40brow0_col2\" class=\"data row0 col2\" >$\\$$361.94</td>\n",
       "                        <td id=\"T_e1ff7fdc_96c5_11e9_9579_34f64bddd40brow0_col3\" class=\"data row0 col3\" >$\\$$4.47</td>\n",
       "            </tr>\n",
       "            <tr>\n",
       "                        <th id=\"T_e1ff7fdc_96c5_11e9_9579_34f64bddd40blevel0_row1\" class=\"row_heading level0 row1\" >Male</th>\n",
       "                        <td id=\"T_e1ff7fdc_96c5_11e9_9579_34f64bddd40brow1_col0\" class=\"data row1 col0\" >652</td>\n",
       "                        <td id=\"T_e1ff7fdc_96c5_11e9_9579_34f64bddd40brow1_col1\" class=\"data row1 col1\" >$\\$$3.02</td>\n",
       "                        <td id=\"T_e1ff7fdc_96c5_11e9_9579_34f64bddd40brow1_col2\" class=\"data row1 col2\" >$\\$$1,967.64</td>\n",
       "                        <td id=\"T_e1ff7fdc_96c5_11e9_9579_34f64bddd40brow1_col3\" class=\"data row1 col3\" >$\\$$4.07</td>\n",
       "            </tr>\n",
       "            <tr>\n",
       "                        <th id=\"T_e1ff7fdc_96c5_11e9_9579_34f64bddd40blevel0_row2\" class=\"row_heading level0 row2\" >Other / Non-Disclosed</th>\n",
       "                        <td id=\"T_e1ff7fdc_96c5_11e9_9579_34f64bddd40brow2_col0\" class=\"data row2 col0\" >15</td>\n",
       "                        <td id=\"T_e1ff7fdc_96c5_11e9_9579_34f64bddd40brow2_col1\" class=\"data row2 col1\" >$\\$$3.35</td>\n",
       "                        <td id=\"T_e1ff7fdc_96c5_11e9_9579_34f64bddd40brow2_col2\" class=\"data row2 col2\" >$\\$$50.19</td>\n",
       "                        <td id=\"T_e1ff7fdc_96c5_11e9_9579_34f64bddd40brow2_col3\" class=\"data row2 col3\" >$\\$$4.56</td>\n",
       "            </tr>\n",
       "    </tbody></table>"
      ],
      "text/plain": [
       "<pandas.io.formats.style.Styler at 0x1f415d297b8>"
      ]
     },
     "execution_count": 6,
     "metadata": {},
     "output_type": "execute_result"
    }
   ],
   "source": [
    "#collect purchase data in variables for clarity\n",
    "#purchase_data_gender=purchase_data.groupby(['Gender']), defined above\n",
    "#total_players_gender = purchase_data_gender[\"SN\"].nunique() defined above\n",
    "\n",
    "#total player purchases from gender grouped dataframe\n",
    "total_purchase_count_gender = purchase_data_gender[\"Item ID\"].count()\n",
    "\n",
    "#average price of player purchase from gender grouped dataframe\n",
    "total_purchase_average_gender = purchase_data_gender[\"Price\"].mean()\n",
    "\n",
    "#total price of purchases per player from gender grouped dataframe\n",
    "total_purchase_price_gender = purchase_data_gender[\"Price\"].sum()\n",
    "\n",
    "#average total price of purchases per player from gender grouped dataframe, use total_players_gender from above\n",
    "average_purchasse_price_gender = total_purchase_price_gender / total_players_gender\n",
    "\n",
    "#merge dataframes into full analysis, give series column names here\n",
    "purchase_analysis_gender = pd.concat([total_purchase_count_gender.rename(\"Purchase Count\"),total_purchase_average_gender.rename(\"Average Purchase Price\"),total_purchase_price_gender.rename(\"Total Purchase Value\"),average_purchasse_price_gender.rename(\"Avg Total Purchase per Person\")],axis=1)\n",
    "\n",
    "#format for nice display\n",
    "#format for price, output result\n",
    "purchase_analysis_gender.style.format({'Average Purchase Price':'$\\$${:,.2f}', 'Total Purchase Value': '$\\$${:,.2f}', 'Avg Total Purchase per Person': '$\\$${:,.2f}'})"
   ]
  },
  {
   "cell_type": "markdown",
   "metadata": {},
   "source": [
    "## Age Demographics"
   ]
  },
  {
   "cell_type": "markdown",
   "metadata": {},
   "source": [
    "* Establish bins for ages\n",
    "\n",
    "\n",
    "* Categorize the existing players using the age bins. Hint: use pd.cut()\n",
    "\n",
    "\n",
    "* Calculate the numbers and percentages by age group\n",
    "\n",
    "\n",
    "* Create a summary data frame to hold the results\n",
    "\n",
    "\n",
    "* Optional: round the percentage column to two decimal points\n",
    "\n",
    "\n",
    "* Display Age Demographics Table\n"
   ]
  },
  {
   "cell_type": "code",
   "execution_count": 7,
   "metadata": {},
   "outputs": [
    {
     "data": {
      "text/html": [
       "<style  type=\"text/css\" >\n",
       "</style><table id=\"T_f2091a28_96c5_11e9_8275_34f64bddd40b\" ><thead>    <tr>        <th class=\"blank level0\" ></th>        <th class=\"col_heading level0 col0\" >Total Count</th>        <th class=\"col_heading level0 col1\" >Percentage of Players</th>    </tr>    <tr>        <th class=\"index_name level0\" >Age Group</th>        <th class=\"blank\" ></th>        <th class=\"blank\" ></th>    </tr></thead><tbody>\n",
       "                <tr>\n",
       "                        <th id=\"T_f2091a28_96c5_11e9_8275_34f64bddd40blevel0_row0\" class=\"row_heading level0 row0\" ><10</th>\n",
       "                        <td id=\"T_f2091a28_96c5_11e9_8275_34f64bddd40brow0_col0\" class=\"data row0 col0\" >17</td>\n",
       "                        <td id=\"T_f2091a28_96c5_11e9_8275_34f64bddd40brow0_col1\" class=\"data row0 col1\" >2.95%</td>\n",
       "            </tr>\n",
       "            <tr>\n",
       "                        <th id=\"T_f2091a28_96c5_11e9_8275_34f64bddd40blevel0_row1\" class=\"row_heading level0 row1\" >10-14</th>\n",
       "                        <td id=\"T_f2091a28_96c5_11e9_8275_34f64bddd40brow1_col0\" class=\"data row1 col0\" >22</td>\n",
       "                        <td id=\"T_f2091a28_96c5_11e9_8275_34f64bddd40brow1_col1\" class=\"data row1 col1\" >3.82%</td>\n",
       "            </tr>\n",
       "            <tr>\n",
       "                        <th id=\"T_f2091a28_96c5_11e9_8275_34f64bddd40blevel0_row2\" class=\"row_heading level0 row2\" >15-19</th>\n",
       "                        <td id=\"T_f2091a28_96c5_11e9_8275_34f64bddd40brow2_col0\" class=\"data row2 col0\" >107</td>\n",
       "                        <td id=\"T_f2091a28_96c5_11e9_8275_34f64bddd40brow2_col1\" class=\"data row2 col1\" >18.58%</td>\n",
       "            </tr>\n",
       "            <tr>\n",
       "                        <th id=\"T_f2091a28_96c5_11e9_8275_34f64bddd40blevel0_row3\" class=\"row_heading level0 row3\" >20-24</th>\n",
       "                        <td id=\"T_f2091a28_96c5_11e9_8275_34f64bddd40brow3_col0\" class=\"data row3 col0\" >258</td>\n",
       "                        <td id=\"T_f2091a28_96c5_11e9_8275_34f64bddd40brow3_col1\" class=\"data row3 col1\" >44.79%</td>\n",
       "            </tr>\n",
       "            <tr>\n",
       "                        <th id=\"T_f2091a28_96c5_11e9_8275_34f64bddd40blevel0_row4\" class=\"row_heading level0 row4\" >26-29</th>\n",
       "                        <td id=\"T_f2091a28_96c5_11e9_8275_34f64bddd40brow4_col0\" class=\"data row4 col0\" >77</td>\n",
       "                        <td id=\"T_f2091a28_96c5_11e9_8275_34f64bddd40brow4_col1\" class=\"data row4 col1\" >13.37%</td>\n",
       "            </tr>\n",
       "            <tr>\n",
       "                        <th id=\"T_f2091a28_96c5_11e9_8275_34f64bddd40blevel0_row5\" class=\"row_heading level0 row5\" >30-34</th>\n",
       "                        <td id=\"T_f2091a28_96c5_11e9_8275_34f64bddd40brow5_col0\" class=\"data row5 col0\" >52</td>\n",
       "                        <td id=\"T_f2091a28_96c5_11e9_8275_34f64bddd40brow5_col1\" class=\"data row5 col1\" >9.03%</td>\n",
       "            </tr>\n",
       "            <tr>\n",
       "                        <th id=\"T_f2091a28_96c5_11e9_8275_34f64bddd40blevel0_row6\" class=\"row_heading level0 row6\" >35-39</th>\n",
       "                        <td id=\"T_f2091a28_96c5_11e9_8275_34f64bddd40brow6_col0\" class=\"data row6 col0\" >31</td>\n",
       "                        <td id=\"T_f2091a28_96c5_11e9_8275_34f64bddd40brow6_col1\" class=\"data row6 col1\" >5.38%</td>\n",
       "            </tr>\n",
       "            <tr>\n",
       "                        <th id=\"T_f2091a28_96c5_11e9_8275_34f64bddd40blevel0_row7\" class=\"row_heading level0 row7\" >40+</th>\n",
       "                        <td id=\"T_f2091a28_96c5_11e9_8275_34f64bddd40brow7_col0\" class=\"data row7 col0\" >12</td>\n",
       "                        <td id=\"T_f2091a28_96c5_11e9_8275_34f64bddd40brow7_col1\" class=\"data row7 col1\" >2.08%</td>\n",
       "            </tr>\n",
       "    </tbody></table>"
      ],
      "text/plain": [
       "<pandas.io.formats.style.Styler at 0x1f414f0a780>"
      ]
     },
     "execution_count": 7,
     "metadata": {},
     "output_type": "execute_result"
    }
   ],
   "source": [
    "#define bins to cut age groups into\n",
    "bins = [0, 9, 14, 19, 24, 29, 34, 39, 200]\n",
    "labels = ['<10', '10-14', '15-19', '20-24', '26-29', '30-34', '35-39', '40+']\n",
    "\n",
    "#add binned data to new Age Group column in original df \n",
    "purchase_data[\"Age Group\"] = pd.cut(purchase_data['Age'], bins, labels = labels)\n",
    "\n",
    "#new dataframe grouped by bins\n",
    "purchase_data_age_group =  purchase_data.groupby(\"Age Group\")\n",
    "\n",
    "#find how many players in each bin\n",
    "total_player_count_age=purchase_data_age_group[\"SN\"].nunique()\n",
    "\n",
    "#find what percent of tatal players each bin represents\n",
    "total_player_percent_age = total_player_count_age / purchase_data[\"SN\"].nunique() * 100\n",
    "\n",
    "#merge dataframes into full analysis, give series column names here\n",
    "total_players_count_age = pd.concat([total_player_count_age.rename('Total Count'),total_player_percent_age.rename('Percentage of Players')],axis=1)\n",
    "\n",
    "#format for nice display\n",
    "#format for price, output result\n",
    "total_players_count_age.style.format({\"Percentage of Players\":\"{:.2f}%\"})"
   ]
  },
  {
   "cell_type": "markdown",
   "metadata": {},
   "source": [
    "## Purchasing Analysis (Age)"
   ]
  },
  {
   "cell_type": "markdown",
   "metadata": {},
   "source": [
    "* Bin the purchase_data data frame by age\n",
    "\n",
    "\n",
    "* Run basic calculations to obtain purchase count, avg. purchase price, avg. purchase total per person etc. in the table below\n",
    "\n",
    "\n",
    "* Create a summary data frame to hold the results\n",
    "\n",
    "\n",
    "* Optional: give the displayed data cleaner formatting\n",
    "\n",
    "\n",
    "* Display the summary data frame"
   ]
  },
  {
   "cell_type": "code",
   "execution_count": 8,
   "metadata": {},
   "outputs": [
    {
     "data": {
      "text/html": [
       "<style  type=\"text/css\" >\n",
       "</style><table id=\"T_ffcbce3e_96c5_11e9_a508_34f64bddd40b\" ><thead>    <tr>        <th class=\"blank level0\" ></th>        <th class=\"col_heading level0 col0\" >Purchase Count</th>        <th class=\"col_heading level0 col1\" >Average Purchase Price</th>        <th class=\"col_heading level0 col2\" >Total Purchase Value</th>        <th class=\"col_heading level0 col3\" >Avg Total Purchase per Person</th>    </tr>    <tr>        <th class=\"index_name level0\" >Age Group</th>        <th class=\"blank\" ></th>        <th class=\"blank\" ></th>        <th class=\"blank\" ></th>        <th class=\"blank\" ></th>    </tr></thead><tbody>\n",
       "                <tr>\n",
       "                        <th id=\"T_ffcbce3e_96c5_11e9_a508_34f64bddd40blevel0_row0\" class=\"row_heading level0 row0\" ><10</th>\n",
       "                        <td id=\"T_ffcbce3e_96c5_11e9_a508_34f64bddd40brow0_col0\" class=\"data row0 col0\" >23</td>\n",
       "                        <td id=\"T_ffcbce3e_96c5_11e9_a508_34f64bddd40brow0_col1\" class=\"data row0 col1\" >$\\$$3.35</td>\n",
       "                        <td id=\"T_ffcbce3e_96c5_11e9_a508_34f64bddd40brow0_col2\" class=\"data row0 col2\" >$\\$$77.13</td>\n",
       "                        <td id=\"T_ffcbce3e_96c5_11e9_a508_34f64bddd40brow0_col3\" class=\"data row0 col3\" >$\\$$4.54</td>\n",
       "            </tr>\n",
       "            <tr>\n",
       "                        <th id=\"T_ffcbce3e_96c5_11e9_a508_34f64bddd40blevel0_row1\" class=\"row_heading level0 row1\" >10-14</th>\n",
       "                        <td id=\"T_ffcbce3e_96c5_11e9_a508_34f64bddd40brow1_col0\" class=\"data row1 col0\" >28</td>\n",
       "                        <td id=\"T_ffcbce3e_96c5_11e9_a508_34f64bddd40brow1_col1\" class=\"data row1 col1\" >$\\$$2.96</td>\n",
       "                        <td id=\"T_ffcbce3e_96c5_11e9_a508_34f64bddd40brow1_col2\" class=\"data row1 col2\" >$\\$$82.78</td>\n",
       "                        <td id=\"T_ffcbce3e_96c5_11e9_a508_34f64bddd40brow1_col3\" class=\"data row1 col3\" >$\\$$3.76</td>\n",
       "            </tr>\n",
       "            <tr>\n",
       "                        <th id=\"T_ffcbce3e_96c5_11e9_a508_34f64bddd40blevel0_row2\" class=\"row_heading level0 row2\" >15-19</th>\n",
       "                        <td id=\"T_ffcbce3e_96c5_11e9_a508_34f64bddd40brow2_col0\" class=\"data row2 col0\" >136</td>\n",
       "                        <td id=\"T_ffcbce3e_96c5_11e9_a508_34f64bddd40brow2_col1\" class=\"data row2 col1\" >$\\$$3.04</td>\n",
       "                        <td id=\"T_ffcbce3e_96c5_11e9_a508_34f64bddd40brow2_col2\" class=\"data row2 col2\" >$\\$$412.89</td>\n",
       "                        <td id=\"T_ffcbce3e_96c5_11e9_a508_34f64bddd40brow2_col3\" class=\"data row2 col3\" >$\\$$3.86</td>\n",
       "            </tr>\n",
       "            <tr>\n",
       "                        <th id=\"T_ffcbce3e_96c5_11e9_a508_34f64bddd40blevel0_row3\" class=\"row_heading level0 row3\" >20-24</th>\n",
       "                        <td id=\"T_ffcbce3e_96c5_11e9_a508_34f64bddd40brow3_col0\" class=\"data row3 col0\" >365</td>\n",
       "                        <td id=\"T_ffcbce3e_96c5_11e9_a508_34f64bddd40brow3_col1\" class=\"data row3 col1\" >$\\$$3.05</td>\n",
       "                        <td id=\"T_ffcbce3e_96c5_11e9_a508_34f64bddd40brow3_col2\" class=\"data row3 col2\" >$\\$$1,114.06</td>\n",
       "                        <td id=\"T_ffcbce3e_96c5_11e9_a508_34f64bddd40brow3_col3\" class=\"data row3 col3\" >$\\$$4.32</td>\n",
       "            </tr>\n",
       "            <tr>\n",
       "                        <th id=\"T_ffcbce3e_96c5_11e9_a508_34f64bddd40blevel0_row4\" class=\"row_heading level0 row4\" >26-29</th>\n",
       "                        <td id=\"T_ffcbce3e_96c5_11e9_a508_34f64bddd40brow4_col0\" class=\"data row4 col0\" >101</td>\n",
       "                        <td id=\"T_ffcbce3e_96c5_11e9_a508_34f64bddd40brow4_col1\" class=\"data row4 col1\" >$\\$$2.90</td>\n",
       "                        <td id=\"T_ffcbce3e_96c5_11e9_a508_34f64bddd40brow4_col2\" class=\"data row4 col2\" >$\\$$293.00</td>\n",
       "                        <td id=\"T_ffcbce3e_96c5_11e9_a508_34f64bddd40brow4_col3\" class=\"data row4 col3\" >$\\$$3.81</td>\n",
       "            </tr>\n",
       "            <tr>\n",
       "                        <th id=\"T_ffcbce3e_96c5_11e9_a508_34f64bddd40blevel0_row5\" class=\"row_heading level0 row5\" >30-34</th>\n",
       "                        <td id=\"T_ffcbce3e_96c5_11e9_a508_34f64bddd40brow5_col0\" class=\"data row5 col0\" >73</td>\n",
       "                        <td id=\"T_ffcbce3e_96c5_11e9_a508_34f64bddd40brow5_col1\" class=\"data row5 col1\" >$\\$$2.93</td>\n",
       "                        <td id=\"T_ffcbce3e_96c5_11e9_a508_34f64bddd40brow5_col2\" class=\"data row5 col2\" >$\\$$214.00</td>\n",
       "                        <td id=\"T_ffcbce3e_96c5_11e9_a508_34f64bddd40brow5_col3\" class=\"data row5 col3\" >$\\$$4.12</td>\n",
       "            </tr>\n",
       "            <tr>\n",
       "                        <th id=\"T_ffcbce3e_96c5_11e9_a508_34f64bddd40blevel0_row6\" class=\"row_heading level0 row6\" >35-39</th>\n",
       "                        <td id=\"T_ffcbce3e_96c5_11e9_a508_34f64bddd40brow6_col0\" class=\"data row6 col0\" >41</td>\n",
       "                        <td id=\"T_ffcbce3e_96c5_11e9_a508_34f64bddd40brow6_col1\" class=\"data row6 col1\" >$\\$$3.60</td>\n",
       "                        <td id=\"T_ffcbce3e_96c5_11e9_a508_34f64bddd40brow6_col2\" class=\"data row6 col2\" >$\\$$147.67</td>\n",
       "                        <td id=\"T_ffcbce3e_96c5_11e9_a508_34f64bddd40brow6_col3\" class=\"data row6 col3\" >$\\$$4.76</td>\n",
       "            </tr>\n",
       "            <tr>\n",
       "                        <th id=\"T_ffcbce3e_96c5_11e9_a508_34f64bddd40blevel0_row7\" class=\"row_heading level0 row7\" >40+</th>\n",
       "                        <td id=\"T_ffcbce3e_96c5_11e9_a508_34f64bddd40brow7_col0\" class=\"data row7 col0\" >13</td>\n",
       "                        <td id=\"T_ffcbce3e_96c5_11e9_a508_34f64bddd40brow7_col1\" class=\"data row7 col1\" >$\\$$2.94</td>\n",
       "                        <td id=\"T_ffcbce3e_96c5_11e9_a508_34f64bddd40brow7_col2\" class=\"data row7 col2\" >$\\$$38.24</td>\n",
       "                        <td id=\"T_ffcbce3e_96c5_11e9_a508_34f64bddd40brow7_col3\" class=\"data row7 col3\" >$\\$$3.19</td>\n",
       "            </tr>\n",
       "    </tbody></table>"
      ],
      "text/plain": [
       "<pandas.io.formats.style.Styler at 0x1f414eccf60>"
      ]
     },
     "execution_count": 8,
     "metadata": {},
     "output_type": "execute_result"
    }
   ],
   "source": [
    "#purchase_data_age_group =  purchase_data.groupby(\"Age Group\") defined above\n",
    "#total_player_count_age=purchase_data_age_group[\"SN\"].nunique() defined above\n",
    "\n",
    "#total group purchases from age grouped dataframe\n",
    "total_purchase_count_age = purchase_data_age_group[\"Item ID\"].count()\n",
    "\n",
    "#average price of group purchase from age grouped dataframe\n",
    "total_purchase_average_age = purchase_data_age_group[\"Price\"].mean()\n",
    "\n",
    "#total price of purchases per group from age grouped dataframe\n",
    "total_purchase_price_age = purchase_data_age_group[\"Price\"].sum()\n",
    "\n",
    "#average total price of purchases per group from age grouped dataframe, use total_players_age from above\n",
    "average_purchasse_price_age = total_purchase_price_age / total_player_count_age\n",
    "\n",
    "#merge dataframes into full analysis, give series column names here\n",
    "purchase_analysis_age = pd.concat([total_purchase_count_age.rename('Purchase Count'),total_purchase_average_age.rename('Average Purchase Price'),total_purchase_price_age.rename('Total Purchase Value'),average_purchasse_price_age.rename('Avg Total Purchase per Person')],axis=1)\n",
    "\n",
    "#format for nice display\n",
    "#format for price, output result\n",
    "purchase_analysis_age.style.format({'Average Purchase Price':'$\\$${:,.2f}', 'Total Purchase Value': '$\\$${:,.2f}', 'Avg Total Purchase per Person': '$\\$${:,.2f}'})\n",
    "\n"
   ]
  },
  {
   "cell_type": "markdown",
   "metadata": {},
   "source": [
    "## Top Spenders"
   ]
  },
  {
   "cell_type": "markdown",
   "metadata": {},
   "source": [
    "* Run basic calculations to obtain the results in the table below\n",
    "\n",
    "\n",
    "* Create a summary data frame to hold the results\n",
    "\n",
    "\n",
    "* Sort the total purchase value column in descending order\n",
    "\n",
    "\n",
    "* Optional: give the displayed data cleaner formatting\n",
    "\n",
    "\n",
    "* Display a preview of the summary data frame\n",
    "\n"
   ]
  },
  {
   "cell_type": "code",
   "execution_count": 11,
   "metadata": {},
   "outputs": [
    {
     "data": {
      "text/html": [
       "<style  type=\"text/css\" >\n",
       "</style><table id=\"T_9ae36728_96c6_11e9_aefe_34f64bddd40b\" ><thead>    <tr>        <th class=\"blank level0\" ></th>        <th class=\"col_heading level0 col0\" >Purchase Count</th>        <th class=\"col_heading level0 col1\" >Average Purchase Price</th>        <th class=\"col_heading level0 col2\" >Total Purchase Value</th>    </tr>    <tr>        <th class=\"index_name level0\" >SN</th>        <th class=\"blank\" ></th>        <th class=\"blank\" ></th>        <th class=\"blank\" ></th>    </tr></thead><tbody>\n",
       "                <tr>\n",
       "                        <th id=\"T_9ae36728_96c6_11e9_aefe_34f64bddd40blevel0_row0\" class=\"row_heading level0 row0\" >Lisosia93</th>\n",
       "                        <td id=\"T_9ae36728_96c6_11e9_aefe_34f64bddd40brow0_col0\" class=\"data row0 col0\" >5</td>\n",
       "                        <td id=\"T_9ae36728_96c6_11e9_aefe_34f64bddd40brow0_col1\" class=\"data row0 col1\" >$\\$$3.79</td>\n",
       "                        <td id=\"T_9ae36728_96c6_11e9_aefe_34f64bddd40brow0_col2\" class=\"data row0 col2\" >$\\$$18.96</td>\n",
       "            </tr>\n",
       "            <tr>\n",
       "                        <th id=\"T_9ae36728_96c6_11e9_aefe_34f64bddd40blevel0_row1\" class=\"row_heading level0 row1\" >Idastidru52</th>\n",
       "                        <td id=\"T_9ae36728_96c6_11e9_aefe_34f64bddd40brow1_col0\" class=\"data row1 col0\" >4</td>\n",
       "                        <td id=\"T_9ae36728_96c6_11e9_aefe_34f64bddd40brow1_col1\" class=\"data row1 col1\" >$\\$$3.86</td>\n",
       "                        <td id=\"T_9ae36728_96c6_11e9_aefe_34f64bddd40brow1_col2\" class=\"data row1 col2\" >$\\$$15.45</td>\n",
       "            </tr>\n",
       "            <tr>\n",
       "                        <th id=\"T_9ae36728_96c6_11e9_aefe_34f64bddd40blevel0_row2\" class=\"row_heading level0 row2\" >Chamjask73</th>\n",
       "                        <td id=\"T_9ae36728_96c6_11e9_aefe_34f64bddd40brow2_col0\" class=\"data row2 col0\" >3</td>\n",
       "                        <td id=\"T_9ae36728_96c6_11e9_aefe_34f64bddd40brow2_col1\" class=\"data row2 col1\" >$\\$$4.61</td>\n",
       "                        <td id=\"T_9ae36728_96c6_11e9_aefe_34f64bddd40brow2_col2\" class=\"data row2 col2\" >$\\$$13.83</td>\n",
       "            </tr>\n",
       "            <tr>\n",
       "                        <th id=\"T_9ae36728_96c6_11e9_aefe_34f64bddd40blevel0_row3\" class=\"row_heading level0 row3\" >Iral74</th>\n",
       "                        <td id=\"T_9ae36728_96c6_11e9_aefe_34f64bddd40brow3_col0\" class=\"data row3 col0\" >4</td>\n",
       "                        <td id=\"T_9ae36728_96c6_11e9_aefe_34f64bddd40brow3_col1\" class=\"data row3 col1\" >$\\$$3.40</td>\n",
       "                        <td id=\"T_9ae36728_96c6_11e9_aefe_34f64bddd40brow3_col2\" class=\"data row3 col2\" >$\\$$13.62</td>\n",
       "            </tr>\n",
       "            <tr>\n",
       "                        <th id=\"T_9ae36728_96c6_11e9_aefe_34f64bddd40blevel0_row4\" class=\"row_heading level0 row4\" >Iskadarya95</th>\n",
       "                        <td id=\"T_9ae36728_96c6_11e9_aefe_34f64bddd40brow4_col0\" class=\"data row4 col0\" >3</td>\n",
       "                        <td id=\"T_9ae36728_96c6_11e9_aefe_34f64bddd40brow4_col1\" class=\"data row4 col1\" >$\\$$4.37</td>\n",
       "                        <td id=\"T_9ae36728_96c6_11e9_aefe_34f64bddd40brow4_col2\" class=\"data row4 col2\" >$\\$$13.10</td>\n",
       "            </tr>\n",
       "    </tbody></table>"
      ],
      "text/plain": [
       "<pandas.io.formats.style.Styler at 0x1f415d39358>"
      ]
     },
     "execution_count": 11,
     "metadata": {},
     "output_type": "execute_result"
    }
   ],
   "source": [
    "#new dataframe grouped by SN (name)\n",
    "purchase_data_name_group =  purchase_data.groupby(\"SN\")\n",
    "\n",
    "#total player purchases from name grouped dataframe\n",
    "total_purchase_count_name = purchase_data_name_group[\"Item ID\"].count()\n",
    "\n",
    "#total price of purchases per SN (name) from name grouped dataframe\n",
    "total_purchase_price_name = purchase_data_name_group[\"Price\"].sum()\n",
    "\n",
    "#average price of purchases per player from name grouped dataframe\n",
    "average_purchase_price_name = total_purchase_price_name / total_purchase_count_name\n",
    "\n",
    "#merge dataframes into full analysis, give series column names here\n",
    "purchase_analysis_name = pd.concat([total_purchase_count_name.rename('Purchase Count'),average_purchase_price_name.rename('Average Purchase Price'),total_purchase_price_name.rename('Total Purchase Value')],axis=1)\n",
    "\n",
    "#format for nice display\n",
    "#format for price, output result\n",
    "purchase_analysis_name.sort_values([\"Total Purchase Value\"], ascending = False).head().style.format({'Average Purchase Price':'$\\$${:,.2f}', 'Total Purchase Value': '$\\$${:,.2f}'})"
   ]
  },
  {
   "cell_type": "markdown",
   "metadata": {},
   "source": [
    "## Most Popular Items"
   ]
  },
  {
   "cell_type": "markdown",
   "metadata": {},
   "source": [
    "* Retrieve the Item ID, Item Name, and Item Price columns\n",
    "\n",
    "\n",
    "* Group by Item ID and Item Name. Perform calculations to obtain purchase count, item price, and total purchase value\n",
    "\n",
    "\n",
    "* Create a summary data frame to hold the results\n",
    "\n",
    "\n",
    "* Sort the purchase count column in descending order\n",
    "\n",
    "\n",
    "* Optional: give the displayed data cleaner formatting\n",
    "\n",
    "\n",
    "* Display a preview of the summary data frame\n",
    "\n"
   ]
  },
  {
   "cell_type": "code",
   "execution_count": 12,
   "metadata": {},
   "outputs": [
    {
     "data": {
      "text/html": [
       "<style  type=\"text/css\" >\n",
       "</style><table id=\"T_a95cfea2_96c6_11e9_bf2f_34f64bddd40b\" ><thead>    <tr>        <th class=\"blank\" ></th>        <th class=\"blank level0\" ></th>        <th class=\"col_heading level0 col0\" >Purchase Count</th>        <th class=\"col_heading level0 col1\" >Item Price</th>        <th class=\"col_heading level0 col2\" >Total Purchase Value</th>    </tr>    <tr>        <th class=\"index_name level0\" >Item ID</th>        <th class=\"index_name level1\" >Item Name</th>        <th class=\"blank\" ></th>        <th class=\"blank\" ></th>        <th class=\"blank\" ></th>    </tr></thead><tbody>\n",
       "                <tr>\n",
       "                        <th id=\"T_a95cfea2_96c6_11e9_bf2f_34f64bddd40blevel0_row0\" class=\"row_heading level0 row0\" >178</th>\n",
       "                        <th id=\"T_a95cfea2_96c6_11e9_bf2f_34f64bddd40blevel1_row0\" class=\"row_heading level1 row0\" >Oathbreaker, Last Hope of the Breaking Storm</th>\n",
       "                        <td id=\"T_a95cfea2_96c6_11e9_bf2f_34f64bddd40brow0_col0\" class=\"data row0 col0\" >12</td>\n",
       "                        <td id=\"T_a95cfea2_96c6_11e9_bf2f_34f64bddd40brow0_col1\" class=\"data row0 col1\" >$\\$$4.23</td>\n",
       "                        <td id=\"T_a95cfea2_96c6_11e9_bf2f_34f64bddd40brow0_col2\" class=\"data row0 col2\" >$\\$$50.76</td>\n",
       "            </tr>\n",
       "            <tr>\n",
       "                        <th id=\"T_a95cfea2_96c6_11e9_bf2f_34f64bddd40blevel0_row1\" class=\"row_heading level0 row1\" >145</th>\n",
       "                        <th id=\"T_a95cfea2_96c6_11e9_bf2f_34f64bddd40blevel1_row1\" class=\"row_heading level1 row1\" >Fiery Glass Crusader</th>\n",
       "                        <td id=\"T_a95cfea2_96c6_11e9_bf2f_34f64bddd40brow1_col0\" class=\"data row1 col0\" >9</td>\n",
       "                        <td id=\"T_a95cfea2_96c6_11e9_bf2f_34f64bddd40brow1_col1\" class=\"data row1 col1\" >$\\$$4.58</td>\n",
       "                        <td id=\"T_a95cfea2_96c6_11e9_bf2f_34f64bddd40brow1_col2\" class=\"data row1 col2\" >$\\$$41.22</td>\n",
       "            </tr>\n",
       "            <tr>\n",
       "                        <th id=\"T_a95cfea2_96c6_11e9_bf2f_34f64bddd40blevel0_row2\" class=\"row_heading level0 row2\" >108</th>\n",
       "                        <th id=\"T_a95cfea2_96c6_11e9_bf2f_34f64bddd40blevel1_row2\" class=\"row_heading level1 row2\" >Extraction, Quickblade Of Trembling Hands</th>\n",
       "                        <td id=\"T_a95cfea2_96c6_11e9_bf2f_34f64bddd40brow2_col0\" class=\"data row2 col0\" >9</td>\n",
       "                        <td id=\"T_a95cfea2_96c6_11e9_bf2f_34f64bddd40brow2_col1\" class=\"data row2 col1\" >$\\$$3.53</td>\n",
       "                        <td id=\"T_a95cfea2_96c6_11e9_bf2f_34f64bddd40brow2_col2\" class=\"data row2 col2\" >$\\$$31.77</td>\n",
       "            </tr>\n",
       "            <tr>\n",
       "                        <th id=\"T_a95cfea2_96c6_11e9_bf2f_34f64bddd40blevel0_row3\" class=\"row_heading level0 row3\" >82</th>\n",
       "                        <th id=\"T_a95cfea2_96c6_11e9_bf2f_34f64bddd40blevel1_row3\" class=\"row_heading level1 row3\" >Nirvana</th>\n",
       "                        <td id=\"T_a95cfea2_96c6_11e9_bf2f_34f64bddd40brow3_col0\" class=\"data row3 col0\" >9</td>\n",
       "                        <td id=\"T_a95cfea2_96c6_11e9_bf2f_34f64bddd40brow3_col1\" class=\"data row3 col1\" >$\\$$4.90</td>\n",
       "                        <td id=\"T_a95cfea2_96c6_11e9_bf2f_34f64bddd40brow3_col2\" class=\"data row3 col2\" >$\\$$44.10</td>\n",
       "            </tr>\n",
       "            <tr>\n",
       "                        <th id=\"T_a95cfea2_96c6_11e9_bf2f_34f64bddd40blevel0_row4\" class=\"row_heading level0 row4\" >19</th>\n",
       "                        <th id=\"T_a95cfea2_96c6_11e9_bf2f_34f64bddd40blevel1_row4\" class=\"row_heading level1 row4\" >Pursuit, Cudgel of Necromancy</th>\n",
       "                        <td id=\"T_a95cfea2_96c6_11e9_bf2f_34f64bddd40brow4_col0\" class=\"data row4 col0\" >8</td>\n",
       "                        <td id=\"T_a95cfea2_96c6_11e9_bf2f_34f64bddd40brow4_col1\" class=\"data row4 col1\" >$\\$$1.02</td>\n",
       "                        <td id=\"T_a95cfea2_96c6_11e9_bf2f_34f64bddd40brow4_col2\" class=\"data row4 col2\" >$\\$$8.16</td>\n",
       "            </tr>\n",
       "    </tbody></table>"
      ],
      "text/plain": [
       "<pandas.io.formats.style.Styler at 0x1f415d56fd0>"
      ]
     },
     "execution_count": 12,
     "metadata": {},
     "output_type": "execute_result"
    }
   ],
   "source": [
    "#make new dataframe with select columns\n",
    "most_popular_df = purchase_data[['Item ID','Item Name', 'Price']]\n",
    "\n",
    "#group new frame by Item ID and Name\n",
    "most_popular_df = most_popular_df.groupby([\"Item ID\",\"Item Name\"])\n",
    "\n",
    "#total purchases from item grouped dataframe\n",
    "total_purchase_count_item = most_popular_df[\"Item ID\"].count()\n",
    "\n",
    "#total purchase value from item grouped dataframe\n",
    "total_purchase_value_item = (most_popular_df[\"Price\"].sum())\n",
    " \n",
    "#item price, can't figure out how to directly pull so will do math instead\n",
    "item_price_item = total_purchase_value_item / total_purchase_count_item\n",
    "\n",
    "#merge dataframes into full analysis, give series column names here\n",
    "most_popular_analysis = pd.concat([total_purchase_count_item.rename('Purchase Count'), item_price_item.rename('Item Price'), total_purchase_value_item.rename('Total Purchase Value')],axis=1)\n",
    "\n",
    "#format for nice display\n",
    "#format for price, output result\n",
    "most_popular_analysis.sort_values([\"Purchase Count\"], ascending = False).head().style.format({'Item Price':'$\\$${:,.2f}', 'Total Purchase Value': '$\\$${:,.2f}'})\n"
   ]
  },
  {
   "cell_type": "markdown",
   "metadata": {},
   "source": [
    "## Most Profitable Items"
   ]
  },
  {
   "cell_type": "markdown",
   "metadata": {},
   "source": [
    "* Sort the above table by total purchase value in descending order\n",
    "\n",
    "\n",
    "* Optional: give the displayed data cleaner formatting\n",
    "\n",
    "\n",
    "* Display a preview of the data frame\n",
    "\n"
   ]
  },
  {
   "cell_type": "code",
   "execution_count": 13,
   "metadata": {
    "scrolled": true
   },
   "outputs": [
    {
     "data": {
      "text/html": [
       "<style  type=\"text/css\" >\n",
       "</style><table id=\"T_b39c82ec_96c6_11e9_8cba_34f64bddd40b\" ><thead>    <tr>        <th class=\"blank\" ></th>        <th class=\"blank level0\" ></th>        <th class=\"col_heading level0 col0\" >Purchase Count</th>        <th class=\"col_heading level0 col1\" >Item Price</th>        <th class=\"col_heading level0 col2\" >Total Purchase Value</th>    </tr>    <tr>        <th class=\"index_name level0\" >Item ID</th>        <th class=\"index_name level1\" >Item Name</th>        <th class=\"blank\" ></th>        <th class=\"blank\" ></th>        <th class=\"blank\" ></th>    </tr></thead><tbody>\n",
       "                <tr>\n",
       "                        <th id=\"T_b39c82ec_96c6_11e9_8cba_34f64bddd40blevel0_row0\" class=\"row_heading level0 row0\" >178</th>\n",
       "                        <th id=\"T_b39c82ec_96c6_11e9_8cba_34f64bddd40blevel1_row0\" class=\"row_heading level1 row0\" >Oathbreaker, Last Hope of the Breaking Storm</th>\n",
       "                        <td id=\"T_b39c82ec_96c6_11e9_8cba_34f64bddd40brow0_col0\" class=\"data row0 col0\" >12</td>\n",
       "                        <td id=\"T_b39c82ec_96c6_11e9_8cba_34f64bddd40brow0_col1\" class=\"data row0 col1\" >$\\$$4.23</td>\n",
       "                        <td id=\"T_b39c82ec_96c6_11e9_8cba_34f64bddd40brow0_col2\" class=\"data row0 col2\" >$\\$$50.76</td>\n",
       "            </tr>\n",
       "            <tr>\n",
       "                        <th id=\"T_b39c82ec_96c6_11e9_8cba_34f64bddd40blevel0_row1\" class=\"row_heading level0 row1\" >82</th>\n",
       "                        <th id=\"T_b39c82ec_96c6_11e9_8cba_34f64bddd40blevel1_row1\" class=\"row_heading level1 row1\" >Nirvana</th>\n",
       "                        <td id=\"T_b39c82ec_96c6_11e9_8cba_34f64bddd40brow1_col0\" class=\"data row1 col0\" >9</td>\n",
       "                        <td id=\"T_b39c82ec_96c6_11e9_8cba_34f64bddd40brow1_col1\" class=\"data row1 col1\" >$\\$$4.90</td>\n",
       "                        <td id=\"T_b39c82ec_96c6_11e9_8cba_34f64bddd40brow1_col2\" class=\"data row1 col2\" >$\\$$44.10</td>\n",
       "            </tr>\n",
       "            <tr>\n",
       "                        <th id=\"T_b39c82ec_96c6_11e9_8cba_34f64bddd40blevel0_row2\" class=\"row_heading level0 row2\" >145</th>\n",
       "                        <th id=\"T_b39c82ec_96c6_11e9_8cba_34f64bddd40blevel1_row2\" class=\"row_heading level1 row2\" >Fiery Glass Crusader</th>\n",
       "                        <td id=\"T_b39c82ec_96c6_11e9_8cba_34f64bddd40brow2_col0\" class=\"data row2 col0\" >9</td>\n",
       "                        <td id=\"T_b39c82ec_96c6_11e9_8cba_34f64bddd40brow2_col1\" class=\"data row2 col1\" >$\\$$4.58</td>\n",
       "                        <td id=\"T_b39c82ec_96c6_11e9_8cba_34f64bddd40brow2_col2\" class=\"data row2 col2\" >$\\$$41.22</td>\n",
       "            </tr>\n",
       "            <tr>\n",
       "                        <th id=\"T_b39c82ec_96c6_11e9_8cba_34f64bddd40blevel0_row3\" class=\"row_heading level0 row3\" >92</th>\n",
       "                        <th id=\"T_b39c82ec_96c6_11e9_8cba_34f64bddd40blevel1_row3\" class=\"row_heading level1 row3\" >Final Critic</th>\n",
       "                        <td id=\"T_b39c82ec_96c6_11e9_8cba_34f64bddd40brow3_col0\" class=\"data row3 col0\" >8</td>\n",
       "                        <td id=\"T_b39c82ec_96c6_11e9_8cba_34f64bddd40brow3_col1\" class=\"data row3 col1\" >$\\$$4.88</td>\n",
       "                        <td id=\"T_b39c82ec_96c6_11e9_8cba_34f64bddd40brow3_col2\" class=\"data row3 col2\" >$\\$$39.04</td>\n",
       "            </tr>\n",
       "            <tr>\n",
       "                        <th id=\"T_b39c82ec_96c6_11e9_8cba_34f64bddd40blevel0_row4\" class=\"row_heading level0 row4\" >103</th>\n",
       "                        <th id=\"T_b39c82ec_96c6_11e9_8cba_34f64bddd40blevel1_row4\" class=\"row_heading level1 row4\" >Singed Scalpel</th>\n",
       "                        <td id=\"T_b39c82ec_96c6_11e9_8cba_34f64bddd40brow4_col0\" class=\"data row4 col0\" >8</td>\n",
       "                        <td id=\"T_b39c82ec_96c6_11e9_8cba_34f64bddd40brow4_col1\" class=\"data row4 col1\" >$\\$$4.35</td>\n",
       "                        <td id=\"T_b39c82ec_96c6_11e9_8cba_34f64bddd40brow4_col2\" class=\"data row4 col2\" >$\\$$34.80</td>\n",
       "            </tr>\n",
       "    </tbody></table>"
      ],
      "text/plain": [
       "<pandas.io.formats.style.Styler at 0x1f415d29860>"
      ]
     },
     "execution_count": 13,
     "metadata": {},
     "output_type": "execute_result"
    }
   ],
   "source": [
    "#format for nice display\n",
    "#format for price, output result\n",
    "most_popular_analysis.sort_values([\"Total Purchase Value\"], ascending = False).head().style.format({'Item Price':'$\\$${:,.2f}', 'Total Purchase Value': '$\\$${:,.2f}'})"
   ]
  },
  {
   "cell_type": "code",
   "execution_count": null,
   "metadata": {},
   "outputs": [],
   "source": []
  }
 ],
 "metadata": {
  "anaconda-cloud": {},
  "kernel_info": {
   "name": "python3"
  },
  "kernelspec": {
   "display_name": "Python [conda env:.conda-PythonData] *",
   "language": "python",
   "name": "conda-env-.conda-PythonData-py"
  },
  "language_info": {
   "codemirror_mode": {
    "name": "ipython",
    "version": 3
   },
   "file_extension": ".py",
   "mimetype": "text/x-python",
   "name": "python",
   "nbconvert_exporter": "python",
   "pygments_lexer": "ipython3",
   "version": "3.6.8"
  },
  "nteract": {
   "version": "0.2.0"
  }
 },
 "nbformat": 4,
 "nbformat_minor": 2
}
